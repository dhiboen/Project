{
 "cells": [
  {
   "cell_type": "markdown",
   "metadata": {},
   "source": [
    "<h1><center><b>LOGISTIC REGRESSION FOR CLASSIFYING CANCER BEHAVIORAL RISK</b></center></h1>"
   ]
  },
  {
   "cell_type": "markdown",
   "metadata": {},
   "source": [
    "<h4><center><b>Dimas Buntarto</b></center></h4>"
   ]
  },
  {
   "cell_type": "markdown",
   "metadata": {},
   "source": [
    "## **Introduction**"
   ]
  },
  {
   "cell_type": "markdown",
   "metadata": {},
   "source": [
    "Linear models are a class of models that are widely used in practice and have been studied extensively in the last few decades, with roots going back over a hundred years. Linear models make a prediction using a linear function of the input features.\n",
    "\n",
    "Linear models are also extensively used for classification. One form of linear model for classification that is most often used is logistic regression.\n",
    "\n",
    "Logistic regression is another technique borrowed by machine learning from the field of statistics. It is the go-to method for binary classification problems (problems with two class values).\n",
    "\n",
    "In this paper, we will try to use logistic regression to classify cervical cancer behavioral risk which is a binary classification problem (problems with two class values)"
   ]
  },
  {
   "cell_type": "markdown",
   "metadata": {},
   "source": [
    "#### **Disclaimer**\n",
    "\n",
    "The author is not an expert in the health sector, so this paper should not be the main reference material."
   ]
  },
  {
   "cell_type": "markdown",
   "metadata": {},
   "source": [
    "## **Import the Required Libraries**\n",
    "\n",
    "First of all we first import the libraries that we will need"
   ]
  },
  {
   "cell_type": "code",
   "execution_count": 1,
   "metadata": {},
   "outputs": [
    {
     "name": "stdout",
     "output_type": "stream",
     "text": [
      "the required libraries have been imported\n"
     ]
    }
   ],
   "source": [
    "import pandas as pd\n",
    "from matplotlib import pyplot as plt\n",
    "%matplotlib inline\n",
    "import seaborn as sns\n",
    "\n",
    "from sklearn.model_selection import train_test_split\n",
    "from sklearn.model_selection import GridSearchCV\n",
    "from sklearn.linear_model import LogisticRegression\n",
    "\n",
    "print('the required libraries have been imported')"
   ]
  },
  {
   "cell_type": "markdown",
   "metadata": {},
   "source": [
    "## **About The Dataset**\n",
    "\n",
    "We download the datasets and we get information about the data"
   ]
  },
  {
   "cell_type": "code",
   "execution_count": 2,
   "metadata": {},
   "outputs": [],
   "source": [
    "url = 'https://archive.ics.uci.edu/ml/machine-learning-databases/00537/sobar-72.csv'\n",
    "\n",
    "data = pd.read_csv(url)"
   ]
  },
  {
   "cell_type": "code",
   "execution_count": 3,
   "metadata": {},
   "outputs": [
    {
     "data": {
      "text/plain": [
       "(72, 20)"
      ]
     },
     "execution_count": 3,
     "metadata": {},
     "output_type": "execute_result"
    }
   ],
   "source": [
    "data.shape"
   ]
  },
  {
   "cell_type": "code",
   "execution_count": 4,
   "metadata": {},
   "outputs": [
    {
     "name": "stdout",
     "output_type": "stream",
     "text": [
      "<class 'pandas.core.frame.DataFrame'>\n",
      "RangeIndex: 72 entries, 0 to 71\n",
      "Data columns (total 20 columns):\n",
      " #   Column                      Non-Null Count  Dtype\n",
      "---  ------                      --------------  -----\n",
      " 0   behavior_sexualRisk         72 non-null     int64\n",
      " 1   behavior_eating             72 non-null     int64\n",
      " 2   behavior_personalHygine     72 non-null     int64\n",
      " 3   intention_aggregation       72 non-null     int64\n",
      " 4   intention_commitment        72 non-null     int64\n",
      " 5   attitude_consistency        72 non-null     int64\n",
      " 6   attitude_spontaneity        72 non-null     int64\n",
      " 7   norm_significantPerson      72 non-null     int64\n",
      " 8   norm_fulfillment            72 non-null     int64\n",
      " 9   perception_vulnerability    72 non-null     int64\n",
      " 10  perception_severity         72 non-null     int64\n",
      " 11  motivation_strength         72 non-null     int64\n",
      " 12  motivation_willingness      72 non-null     int64\n",
      " 13  socialSupport_emotionality  72 non-null     int64\n",
      " 14  socialSupport_appreciation  72 non-null     int64\n",
      " 15  socialSupport_instrumental  72 non-null     int64\n",
      " 16  empowerment_knowledge       72 non-null     int64\n",
      " 17  empowerment_abilities       72 non-null     int64\n",
      " 18  empowerment_desires         72 non-null     int64\n",
      " 19  ca_cervix                   72 non-null     int64\n",
      "dtypes: int64(20)\n",
      "memory usage: 11.4 KB\n"
     ]
    }
   ],
   "source": [
    "data.info()"
   ]
  },
  {
   "cell_type": "code",
   "execution_count": 5,
   "metadata": {},
   "outputs": [
    {
     "data": {
      "text/plain": [
       "False"
      ]
     },
     "execution_count": 5,
     "metadata": {},
     "output_type": "execute_result"
    }
   ],
   "source": [
    "data.isnull().values.any()"
   ]
  },
  {
   "cell_type": "code",
   "execution_count": 6,
   "metadata": {},
   "outputs": [
    {
     "data": {
      "image/png": "[encoded data removed]",
      "text/plain": [
       "<Figure size 432x288 with 1 Axes>"
      ]
     },
     "metadata": {
      "needs_background": "light"
     },
     "output_type": "display_data"
    }
   ],
   "source": [
    "sns.countplot(x=data.ca_cervix)\n",
    "plt.title('Count Plot for Label')\n",
    "plt.show()"
   ]
  },
  {
   "cell_type": "code",
   "execution_count": 7,
   "metadata": {},
   "outputs": [
    {
     "name": "stdout",
     "output_type": "stream",
     "text": [
      "Percentage without cancer: 71\n",
      "Percentage without cancer: 29\n"
     ]
    }
   ],
   "source": [
    "label_0 = len(data[data.ca_cervix == 0])\n",
    "label_1 = len(data[data.ca_cervix == 1])\n",
    "\n",
    "total = label_1 + label_0\n",
    "\n",
    "pc_of_0 = label_0*100/total\n",
    "pc_of_1 = label_1*100/total\n",
    "\n",
    "print('Percentage without cancer: {:.0f}'.format(pc_of_0))\n",
    "print('Percentage without cancer: {:.0f}'.format(pc_of_1))"
   ]
  },
  {
   "cell_type": "markdown",
   "metadata": {},
   "source": [
    "From the information above, we know that the dataset has 72 samples with 20 features.\n",
    "\n",
    "One feature (ca_cervix) is a label with a value of 1 which means samples have cervical cancer and a value of 0 means samples do not have cervical cancer. From the data, about 71 percent of the sample did not suffer from cervical cancer while about 29 percent have cervical cancer\n",
    "\n",
    "Based on the above information as well, the dataset does not have empty values, so we can move on to the next step"
   ]
  },
  {
   "cell_type": "markdown",
   "metadata": {},
   "source": [
    "## **Split the Dataset**"
   ]
  },
  {
   "cell_type": "markdown",
   "metadata": {},
   "source": [
    "Separating the data into training and testing sets is intended so that the model obtained later has good generalizability in classifying data. It is not uncommon for a classification model to perform data classification very well in a training set, but very poorly at classifying new and non-existing data."
   ]
  },
  {
   "cell_type": "code",
   "execution_count": 8,
   "metadata": {},
   "outputs": [],
   "source": [
    "datasets = data.values\n",
    "\n",
    "X = datasets[:, :-1]\n",
    "y = datasets[:, -1]"
   ]
  },
  {
   "cell_type": "code",
   "execution_count": 9,
   "metadata": {},
   "outputs": [
    {
     "name": "stdout",
     "output_type": "stream",
     "text": [
      "Shape of Training Set is ((54, 19), (54,))\n",
      "Shape of Test Set is ((18, 19), (18,))\n"
     ]
    }
   ],
   "source": [
    "X_train, X_test, y_train, y_test = train_test_split(X, y, random_state=42)\n",
    "\n",
    "print('Shape of Training Set is', (X_train.shape, y_train.shape))\n",
    "print('Shape of Test Set is', (X_test.shape, y_test.shape))"
   ]
  },
  {
   "cell_type": "markdown",
   "metadata": {},
   "source": [
    "## **Classification Using Logistic Regression**"
   ]
  },
  {
   "cell_type": "markdown",
   "metadata": {},
   "source": [
    "Logistic regression is a data analysis technique in statistics that aims to determine the relationship between several variables where the response variable is categorical, both nominal and ordinal, with the explanatory variables being categorical or continuous. Binary logistic regression is a mathematical model approach that is used to analyze the relationship between several factors and a binary variable. In logistic regression, if the response variable consists of two categories, for example Y = 1 states the results obtained are \"successful\" and Y = 0 states the results obtained \"failed\", then the logistic regression uses binary logistic regression."
   ]
  },
  {
   "cell_type": "markdown",
   "metadata": {},
   "source": [
    "In this paper, we will use logistic regression with the value of the default parameters and the parameter values that we specify using the grid search. However, specifically for solver we will use liblinear. This is because the classification we will be working with is a binary classification and the dataset belongs to the small dataset category"
   ]
  },
  {
   "cell_type": "markdown",
   "metadata": {},
   "source": [
    "The main parameter of logistic regression is regularization which is called C. Small values for C mean simple models. So In particular, tuning these parameters is quite important. \n",
    "\n",
    "The other decision you have to make is whether you want to use L1 regularization or L2 regularization. If you assume that only a few of your features are actually important, you should use L1. Otherwise, you should default to L2. L1 can also be useful if interpretability of the model is important. As L1 will use only a few features, it is easier to explain which features are important to the model, and what the effects of these features are.\n",
    "\n",
    "So, we will only set 2 parameters in the second way, namely C and penalty"
   ]
  },
  {
   "cell_type": "markdown",
   "metadata": {},
   "source": [
    "Kita gunakan regresi logistik dengan solver liblinear dan parameter-parameter yang lain sesuai nilai defaultnya"
   ]
  },
  {
   "cell_type": "code",
   "execution_count": 10,
   "metadata": {},
   "outputs": [
    {
     "name": "stdout",
     "output_type": "stream",
     "text": [
      "Score Training Set: 1.000\n",
      "Score Test Set: 0.833\n"
     ]
    }
   ],
   "source": [
    "logreg = LogisticRegression(solver='liblinear')\n",
    "\n",
    "logreg.fit(X_train, y_train)\n",
    "\n",
    "print('Score Training Set: {:.3f}'.format(logreg.score(X_train, y_train)))\n",
    "print('Score Test Set: {:.3f}'.format(logreg.score(X_test, y_test)))"
   ]
  },
  {
   "cell_type": "markdown",
   "metadata": {},
   "source": [
    "At default values, logistic regression provide 100% accuracy on training set and 83.3% accuracy on test set. This shows that we are overfitting."
   ]
  },
  {
   "cell_type": "markdown",
   "metadata": {},
   "source": [
    "Next, we set the C and penalty parameters. We determine the C parameter and the best penalty using a grid search with a cross validation value of 5"
   ]
  },
  {
   "cell_type": "code",
   "execution_count": 11,
   "metadata": {},
   "outputs": [
    {
     "name": "stdout",
     "output_type": "stream",
     "text": [
      "Best parameters: {'C': 0.1, 'penalty': 'l2'}\n",
      "Best cross-validation score: 0.907\n",
      "Test set score: 0.889\n"
     ]
    }
   ],
   "source": [
    "param_grid = {'C':[0.001, 0.01, 0.1, 1, 10, 100],\n",
    "             'penalty':['l1', 'l2']}\n",
    "\n",
    "grid_search = GridSearchCV(logreg, param_grid, cv=5)\n",
    "\n",
    "grid_search.fit(X_train, y_train)\n",
    "\n",
    "print('Best parameters: {}'.format(grid_search.best_params_))\n",
    "print('Best cross-validation score: {:.3f}'.format(grid_search.best_score_))\n",
    "print('Test set score: {:.3f}'.format(grid_search.score(X_test, y_test)))"
   ]
  },
  {
   "cell_type": "markdown",
   "metadata": {},
   "source": [
    "The best score on the validation set is 91%, lower than before, probably because we used less data to train the model (X_train is smaller now because we split our dataset twice). However, the score on the test set—the score that actually tells us how well we generalize— become 89%, better than before."
   ]
  },
  {
   "cell_type": "markdown",
   "metadata": {},
   "source": [
    "## **Conclusion**"
   ]
  },
  {
   "cell_type": "markdown",
   "metadata": {},
   "source": [
    "Logistic regression can be used to estimate cancer risk in the dataset above.\n",
    "\n",
    "Using the default value (with the liblinear solver) we get a score accuracy of 83.3%. Meanwhile, if we use the parameters that we find using grid search with a cross validation value of 5 (with the liblinear solver), we get an accuracy score of 88.9%."
   ]
  },
  {
   "cell_type": "markdown",
   "metadata": {},
   "source": [
    "## **References**"
   ]
  },
  {
   "cell_type": "markdown",
   "metadata": {},
   "source": [
    "1. https://archive.ics.uci.edu/ml/datasets/Cervical+Cancer+Behavior+Risk\n",
    "2. Andreas C Muller and Sarah Guido. Introduction to Machine Learning With Python\n",
    "3. https://machinelearningmastery.com/logistic-regression-for-machine-learning/"
   ]
  }
 ],
 "metadata": {
  "kernelspec": {
   "display_name": "Python 3",
   "language": "python",
   "name": "python3"
  },
  "language_info": {
   "codemirror_mode": {
    "name": "ipython",
    "version": 3
   },
   "file_extension": ".py",
   "mimetype": "text/x-python",
   "name": "python",
   "nbconvert_exporter": "python",
   "pygments_lexer": "ipython3",
   "version": "3.9.0"
  }
 },
 "nbformat": 4,
 "nbformat_minor": 4
}
